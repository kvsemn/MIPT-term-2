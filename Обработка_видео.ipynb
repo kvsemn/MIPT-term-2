{
  "nbformat": 4,
  "nbformat_minor": 0,
  "metadata": {
    "colab": {
      "provenance": [],
      "authorship_tag": "ABX9TyNnKJ+ei532oOhwObh467fk",
      "include_colab_link": true
    },
    "kernelspec": {
      "name": "python3",
      "display_name": "Python 3"
    },
    "language_info": {
      "name": "python"
    }
  },
  "cells": [
    {
      "cell_type": "markdown",
      "metadata": {
        "id": "view-in-github",
        "colab_type": "text"
      },
      "source": [
        "<a href=\"https://colab.research.google.com/github/kvsemn/MIPT-term-2/blob/main/%D0%9E%D0%B1%D1%80%D0%B0%D0%B1%D0%BE%D1%82%D0%BA%D0%B0_%D0%B2%D0%B8%D0%B4%D0%B5%D0%BE.ipynb\" target=\"_parent\"><img src=\"https://colab.research.google.com/assets/colab-badge.svg\" alt=\"Open In Colab\"/></a>"
      ]
    },
    {
      "cell_type": "code",
      "execution_count": 1,
      "metadata": {
        "colab": {
          "base_uri": "https://localhost:8080/"
        },
        "id": "FCk03_0nxBWf",
        "outputId": "7b2311ef-867d-48fb-96dc-7e74e30eae7f"
      },
      "outputs": [
        {
          "output_type": "stream",
          "name": "stdout",
          "text": [
            "Requirement already satisfied: moviepy in /usr/local/lib/python3.11/dist-packages (1.0.3)\n",
            "Requirement already satisfied: decorator<5.0,>=4.0.2 in /usr/local/lib/python3.11/dist-packages (from moviepy) (4.4.2)\n",
            "Requirement already satisfied: tqdm<5.0,>=4.11.2 in /usr/local/lib/python3.11/dist-packages (from moviepy) (4.67.1)\n",
            "Requirement already satisfied: requests<3.0,>=2.8.1 in /usr/local/lib/python3.11/dist-packages (from moviepy) (2.32.3)\n",
            "Requirement already satisfied: proglog<=1.0.0 in /usr/local/lib/python3.11/dist-packages (from moviepy) (0.1.12)\n",
            "Requirement already satisfied: numpy>=1.17.3 in /usr/local/lib/python3.11/dist-packages (from moviepy) (2.0.2)\n",
            "Requirement already satisfied: imageio<3.0,>=2.5 in /usr/local/lib/python3.11/dist-packages (from moviepy) (2.37.0)\n",
            "Requirement already satisfied: imageio-ffmpeg>=0.2.0 in /usr/local/lib/python3.11/dist-packages (from moviepy) (0.6.0)\n",
            "Requirement already satisfied: pillow>=8.3.2 in /usr/local/lib/python3.11/dist-packages (from imageio<3.0,>=2.5->moviepy) (11.2.1)\n",
            "Requirement already satisfied: charset-normalizer<4,>=2 in /usr/local/lib/python3.11/dist-packages (from requests<3.0,>=2.8.1->moviepy) (3.4.2)\n",
            "Requirement already satisfied: idna<4,>=2.5 in /usr/local/lib/python3.11/dist-packages (from requests<3.0,>=2.8.1->moviepy) (3.10)\n",
            "Requirement already satisfied: urllib3<3,>=1.21.1 in /usr/local/lib/python3.11/dist-packages (from requests<3.0,>=2.8.1->moviepy) (2.4.0)\n",
            "Requirement already satisfied: certifi>=2017.4.17 in /usr/local/lib/python3.11/dist-packages (from requests<3.0,>=2.8.1->moviepy) (2025.4.26)\n"
          ]
        }
      ],
      "source": [
        "!pip install moviepy"
      ]
    },
    {
      "cell_type": "code",
      "source": [
        "import os\n",
        "import re\n",
        "from moviepy.editor import VideoFileClip\n",
        "from datetime import datetime\n",
        "from typing import List"
      ],
      "metadata": {
        "id": "b0pDNK3myVrt"
      },
      "execution_count": 3,
      "outputs": []
    },
    {
      "cell_type": "code",
      "source": [
        "def hhmmss_to_seconds(hhmmss: str) -> int:\n",
        "    t = datetime.strptime(hhmmss, \"%H:%M:%S\")\n",
        "    return t.hour * 3600 + t.minute * 60 + t.second\n",
        "\n",
        "def cut_video_segments_with_duration(video_path: str, segments_json: list, output_dir: str = None) -> List[str]:\n",
        "    video = VideoFileClip(video_path)\n",
        "\n",
        "    if not output_dir:\n",
        "        base_name = os.path.splitext(os.path.basename(video_path))[0]\n",
        "        output_dir = f\"{base_name}_clips\"\n",
        "    os.makedirs(output_dir, exist_ok=True)\n",
        "\n",
        "    output_files = []\n",
        "\n",
        "    for idx, seg in enumerate(segments_json):\n",
        "        try:\n",
        "            src = seg.get(\"src\", \"EP\")\n",
        "            start_sec = hhmmss_to_seconds(seg[\"start\"])\n",
        "            end_sec = hhmmss_to_seconds(seg[\"end\"])\n",
        "            duration = int(end_sec - start_sec)\n",
        "\n",
        "            if duration > 0:\n",
        "                subclip = video.subclip(start_sec, end_sec)\n",
        "                out_filename = f\"{src}_{duration}s.mp4\"\n",
        "                out_path = os.path.join(output_dir, out_filename)\n",
        "\n",
        "                subclip.write_videofile(out_path, codec='libx264', audio_codec='aac')\n",
        "                output_files.append(out_path)\n",
        "        except Exception as e:\n",
        "            print(f\"Ошибка в сегменте {seg}: {e}\")\n",
        "\n",
        "    return output_files"
      ],
      "metadata": {
        "id": "kXTHDLQlx9FQ"
      },
      "execution_count": 6,
      "outputs": []
    },
    {
      "cell_type": "code",
      "source": [
        "segments_json = [\n",
        "  {\n",
        "    \"src\": \"EP_01\",\n",
        "    \"start\": \"00:01:15\",\n",
        "    \"end\": \"00:02:10\",\n",
        "    \"why\": \"вступление героя\"\n",
        "  },\n",
        "  {\n",
        "    \"src\": \"EP_01\",\n",
        "    \"start\": \"00:10:05\",\n",
        "    \"end\": \"00:11:00\",\n",
        "    \"why\": \"важный поворот сюжета\"\n",
        "  }\n",
        "]\n",
        "\n",
        "paths = cut_video_segments_named(\"/content/продуктовая аналитика.mp4\", segments_json, \"/content\")\n",
        "print(\"Сохранённые фрагменты:\")\n",
        "for p in paths:\n",
        "    print(p)"
      ],
      "metadata": {
        "colab": {
          "base_uri": "https://localhost:8080/"
        },
        "id": "dGGnjtJf2DE7",
        "outputId": "aba8d8c6-c257-4253-8e20-a94397d4cb4e"
      },
      "execution_count": 7,
      "outputs": [
        {
          "output_type": "stream",
          "name": "stdout",
          "text": [
            "Moviepy - Building video /content/01__.mp4.\n",
            "MoviePy - Writing audio in 01__TEMP_MPY_wvf_snd.mp4\n"
          ]
        },
        {
          "output_type": "stream",
          "name": "stderr",
          "text": []
        },
        {
          "output_type": "stream",
          "name": "stdout",
          "text": [
            "MoviePy - Done.\n",
            "Moviepy - Writing video /content/01__.mp4\n",
            "\n"
          ]
        },
        {
          "output_type": "stream",
          "name": "stderr",
          "text": []
        },
        {
          "output_type": "stream",
          "name": "stdout",
          "text": [
            "Moviepy - Done !\n",
            "Moviepy - video ready /content/01__.mp4\n",
            "Moviepy - Building video /content/02___.mp4.\n",
            "MoviePy - Writing audio in 02___TEMP_MPY_wvf_snd.mp4\n"
          ]
        },
        {
          "output_type": "stream",
          "name": "stderr",
          "text": []
        },
        {
          "output_type": "stream",
          "name": "stdout",
          "text": [
            "MoviePy - Done.\n",
            "Moviepy - Writing video /content/02___.mp4\n",
            "\n"
          ]
        },
        {
          "output_type": "stream",
          "name": "stderr",
          "text": []
        },
        {
          "output_type": "stream",
          "name": "stdout",
          "text": [
            "Moviepy - Done !\n",
            "Moviepy - video ready /content/02___.mp4\n",
            "Сохранённые фрагменты:\n",
            "/content/01__.mp4\n",
            "/content/02___.mp4\n"
          ]
        }
      ]
    }
  ]
}